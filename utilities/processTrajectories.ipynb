{
 "cells": [
  {
   "cell_type": "code",
   "execution_count": 1,
   "metadata": {},
   "outputs": [],
   "source": [
    "import numpy as np\n",
    "import netCDF4 as nc"
   ]
  },
  {
   "cell_type": "code",
   "execution_count": null,
   "metadata": {},
   "outputs": [],
   "source": [
    "# Location of data\n",
    "out_dir = '/parent/directory/to/simulations'\n",
    "sim_name = 'CODT_NAME_'\n",
    "sims = ['ADB','S100','S95'] # list of simulation subnames"
   ]
  },
  {
   "cell_type": "code",
   "execution_count": 2,
   "metadata": {},
   "outputs": [],
   "source": [
    "# Info for each particle injected into the domain\n",
    "particle_var_names = ['PID', 'SID', 'DSR']\n",
    "particle_var_dtype = [np.int32, np.int32, np.float64]\n",
    "particle_var_long_names = ['Particle ID', 'Solute ID', 'Dry-Solute Radius']\n",
    "particle_var_units = ['index #', 'index #', 'nm']\n",
    "particle_dtype = np.dtype([('PID',np.int32),('SID',np.int32),('DSR',np.float64)])\n",
    "\n",
    "# Info for each particle's trajectory\n",
    "var_names = ['GRD', 'LOC', 'T', 'QV', 'SS', 'R', 'ACT', 'TIME']\n",
    "var_long_names = ['Gridcell', 'Location', 'Temperature', 'Water Vapor', 'Supersaturation', 'Radius', 'Activation', 'Time']\n",
    "var_units = ['index #', 'meters', 'celsius', 'g/kg', '%', 'microns', 'Boolean', 'Seconds']\n",
    "var_dtype = np.dtype([('GRD',np.int32),('LOC',np.float64),('T',np.float64),('QV',np.float64),('SS',np.float64),('R',np.float64),('ACT',np.int8), ('TIME',np.float64)])\n",
    "\n",
    "stream_var_dtype = np.dtype([('PID',np.int32),('data',var_dtype)])"
   ]
  },
  {
   "cell_type": "code",
   "execution_count": 3,
   "metadata": {},
   "outputs": [],
   "source": [
    "#@njit\n",
    "def create_ragged_array(PIDs, ID_data, VAR_data):\n",
    "    '''\n",
    "    PIDs - array of unique particle ID's (i.e. netcdf particle coordinate)\n",
    "    ID_data - array of particle ID's from particle data bitstream\n",
    "    VAR_data - array of specific variable's data corresponding to ID_data\n",
    "    '''\n",
    "\n",
    "    try:\n",
    "        assert(ID_data.shape == VAR_data.shape)\n",
    "    except:\n",
    "        print('ID Data and Variable Data are not same shape')\n",
    "        exit\n",
    "\n",
    "    # Ragged array creation\n",
    "    trajectories = np.empty_like(PIDs, dtype=object)\n",
    "    for i, p in enumerate(PIDs):\n",
    "        trajectories[i] = VAR_data[ID_data==p]\n",
    "\n",
    "    return trajectories"
   ]
  },
  {
   "cell_type": "code",
   "execution_count": null,
   "metadata": {},
   "outputs": [
    {
     "name": "stdout",
     "output_type": "stream",
     "text": [
      "working on ADB\n",
      "working on S100\n",
      "working on S95\n"
     ]
    }
   ],
   "source": [
    "for s, sim in enumerate(sims):\n",
    "    print(f'working on {sim}')\n",
    "\n",
    "    # Parse data into numpy arrays of objects/voids\n",
    "    profiles = nc.Dataset(f'{out_dir}/{sim_name}{sim}/{sim_name}{sim}.nc','r')\n",
    "    particle_ids = np.fromfile(f'{out_dir}/{sim_name}{sim}/{sim_name}{sim}_PID.bin', dtype=particle_dtype)\n",
    "    particle_data = np.fromfile(f'{out_dir}/{sim_name}{sim}/{sim_name}{sim}_particle.bin', dtype=stream_var_dtype)\n",
    "\n",
    "    # Create the netcdf file\n",
    "    nc_Path = f'{out_dir}/{sim_name}{sim}/{sim_name}{sim}_particles.nc'\n",
    "    try: ncf.close()\n",
    "    except: pass\n",
    "    with nc.Dataset(nc_Path, mode='w', format='NETCDF4') as ncf:\n",
    "        \n",
    "        # Create particle dimension\n",
    "        Np = particle_ids.shape[0] # Number of unique particles\n",
    "        p_dim = ncf.createDimension('particle', Np)\n",
    "\n",
    "        # Create/populate variables which describe properties of particle\n",
    "        for i, name in enumerate(particle_var_names):\n",
    "            var = ncf.createVariable(name, particle_var_dtype[i], 'particle')\n",
    "            var.setncattr('Long Name', particle_var_long_names[i])\n",
    "            var.setncattr('Units', particle_var_units[i])\n",
    "            var[:] = particle_ids[name]\n",
    "\n",
    "        # Create variable length array\n",
    "        float_vl = ncf.createVLType(np.float64, 'float_vl')\n",
    "        int_vl = ncf.createVLType(np.int32, 'int_vl')\n",
    "        bool_vl = ncf.createVLType(np.int8, 'bool_vl')\n",
    "\n",
    "        for i, name in enumerate(var_names):\n",
    "            # Determine data type\n",
    "            if var_dtype[i] == 'int32':\n",
    "                vl = int_vl\n",
    "            elif var_dtype[i] == 'float64':\n",
    "                vl = float_vl\n",
    "            elif var_dtype[i] == 'int8':\n",
    "                vl = bool_vl\n",
    "            else:\n",
    "                print('ERROR: Unknown Variable Length Datatype')\n",
    "            # Set up variable\n",
    "            var = ncf.createVariable(name, vl, 'particle')\n",
    "            # Set Attributes\n",
    "            var.setncattr('Long Name', var_long_names[i])\n",
    "            var.setncattr('Units', var_units[i])\n",
    "            # Use the netcdf variable 'PID' to select the corresponding ragged array of each particle variable\n",
    "            ragged_var_array = create_ragged_array(ncf['PID'], particle_data['PID'],particle_data['data'][name])\n",
    "            var[:] = ragged_var_array # netcdf 'PID' order ensures placement in appropriate dimension\n"
   ]
  }
 ],
 "metadata": {
  "kernelspec": {
   "display_name": "research",
   "language": "python",
   "name": "python3"
  },
  "language_info": {
   "codemirror_mode": {
    "name": "ipython",
    "version": 3
   },
   "file_extension": ".py",
   "mimetype": "text/x-python",
   "name": "python",
   "nbconvert_exporter": "python",
   "pygments_lexer": "ipython3",
   "version": "3.12.5"
  }
 },
 "nbformat": 4,
 "nbformat_minor": 2
}
